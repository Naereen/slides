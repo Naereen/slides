{
 "cells": [
  {
   "cell_type": "markdown",
   "metadata": {},
   "source": [
    "# This is a short demo of Julia"
   ]
  },
  {
   "cell_type": "markdown",
   "metadata": {},
   "source": [
    "> To learn more, check the [Julia documentation](https://docs.julialang.org/)!"
   ]
  },
  {
   "cell_type": "markdown",
   "metadata": {},
   "source": [
    "## Hello world"
   ]
  },
  {
   "cell_type": "code",
   "execution_count": 14,
   "metadata": {},
   "outputs": [
    {
     "name": "stdout",
     "output_type": "stream",
     "text": [
      "Hello from Julia + Jupyter!\n"
     ]
    }
   ],
   "source": [
    "println(\"Hello from Julia + Jupyter!\")"
   ]
  },
  {
   "cell_type": "markdown",
   "metadata": {},
   "source": [
    "## A simple math example\n",
    "\n",
    "$$\\text{For } x \\in\\mathbb{R}^{n,n}, \\;\\; iFFT(FFT(x)) = x ?$$"
   ]
  },
  {
   "cell_type": "code",
   "execution_count": 2,
   "metadata": {},
   "outputs": [
    {
     "data": {
      "text/plain": [
       "10×10 Array{Float64,2}:\n",
       " 0.414411   0.304796  0.239104  0.36513    …  0.0458627  0.801216  0.245571\n",
       " 0.0540293  0.79935   0.455725  0.523839      0.158364   0.971185  0.595249\n",
       " 0.26901    0.276373  0.804781  0.308718      0.562864   0.240393  0.477163\n",
       " 0.550455   0.393096  0.415986  0.934639      0.0959417  0.166348  0.95397 \n",
       " 0.050985   0.929405  0.535396  0.85512       0.363232   0.979027  0.13972 \n",
       " 0.968825   0.949309  0.121195  0.0640985  …  0.216619   0.952975  0.215843\n",
       " 0.615535   0.850747  0.553397  0.114127      0.101059   0.348471  0.75827 \n",
       " 0.815052   0.039234  0.246     0.883965      0.540043   0.93756   0.370338\n",
       " 0.866201   0.495821  0.744117  0.242896      0.271046   0.492313  0.80474 \n",
       " 0.103809   0.693041  0.426236  0.295297      0.151409   0.901746  0.123584"
      ]
     },
     "execution_count": 2,
     "metadata": {},
     "output_type": "execute_result"
    }
   ],
   "source": [
    "x = rand(10, 10)"
   ]
  },
  {
   "cell_type": "code",
   "execution_count": 3,
   "metadata": {},
   "outputs": [
    {
     "data": {
      "text/plain": [
       "10×10 Array{Complex{Float64},2}:\n",
       "   48.0138+0.0im         1.95606-0.224394im  …    1.95606+0.224394im\n",
       "  -2.24233-0.238071im   -2.27981+1.05882im      0.0246273+2.37238im \n",
       "   -1.7707+0.84261im     2.12049-0.28684im      -0.754113-1.85344im \n",
       " -0.999453-2.227im     -0.160035-0.766455im      -1.36593+1.20368im \n",
       "   1.11315-2.78075im     -1.8615+0.420956im     -0.245328-2.04904im \n",
       "  -2.34777+0.0im         1.54021-1.72004im   …    1.54021+1.72004im \n",
       "   1.11315+2.78075im   -0.245328+2.04904im        -1.8615-0.420956im\n",
       " -0.999453+2.227im      -1.36593-1.20368im      -0.160035+0.766455im\n",
       "   -1.7707-0.84261im   -0.754113+1.85344im        2.12049+0.28684im \n",
       "  -2.24233+0.238071im  0.0246273-2.37238im       -2.27981-1.05882im "
      ]
     },
     "execution_count": 3,
     "metadata": {},
     "output_type": "execute_result"
    }
   ],
   "source": [
    "fft(x)"
   ]
  },
  {
   "cell_type": "code",
   "execution_count": 5,
   "metadata": {},
   "outputs": [
    {
     "data": {
      "text/plain": [
       "10×10 Array{Complex{Float64},2}:\n",
       "  0.414411+0.0im  0.304796+0.0im  …  0.801216+0.0im  0.245571+0.0im\n",
       " 0.0540293+0.0im   0.79935+0.0im     0.971185+0.0im  0.595249+0.0im\n",
       "   0.26901+0.0im  0.276373+0.0im     0.240393+0.0im  0.477163+0.0im\n",
       "  0.550455+0.0im  0.393096+0.0im     0.166348+0.0im   0.95397+0.0im\n",
       "  0.050985+0.0im  0.929405+0.0im     0.979027+0.0im   0.13972+0.0im\n",
       "  0.968825+0.0im  0.949309+0.0im  …  0.952975+0.0im  0.215843+0.0im\n",
       "  0.615535+0.0im  0.850747+0.0im     0.348471+0.0im   0.75827+0.0im\n",
       "  0.815052+0.0im  0.039234+0.0im      0.93756+0.0im  0.370338+0.0im\n",
       "  0.866201+0.0im  0.495821+0.0im     0.492313+0.0im   0.80474+0.0im\n",
       "  0.103809+0.0im  0.693041+0.0im     0.901746+0.0im  0.123584+0.0im"
      ]
     },
     "execution_count": 5,
     "metadata": {},
     "output_type": "execute_result"
    }
   ],
   "source": [
    "ifft(fft(x))"
   ]
  },
  {
   "cell_type": "markdown",
   "metadata": {},
   "source": [
    "It's complex? Let's take its real part!"
   ]
  },
  {
   "cell_type": "code",
   "execution_count": 17,
   "metadata": {},
   "outputs": [
    {
     "data": {
      "text/plain": [
       "10×10 Array{Float64,2}:\n",
       " 0.414411   0.304796  0.239104  0.36513    …  0.0458627  0.801216  0.245571\n",
       " 0.0540293  0.79935   0.455725  0.523839      0.158364   0.971185  0.595249\n",
       " 0.26901    0.276373  0.804781  0.308718      0.562864   0.240393  0.477163\n",
       " 0.550455   0.393096  0.415986  0.934639      0.0959417  0.166348  0.95397 \n",
       " 0.050985   0.929405  0.535396  0.85512       0.363232   0.979027  0.13972 \n",
       " 0.968825   0.949309  0.121195  0.0640985  …  0.216619   0.952975  0.215843\n",
       " 0.615535   0.850747  0.553397  0.114127      0.101059   0.348471  0.75827 \n",
       " 0.815052   0.039234  0.246     0.883965      0.540043   0.93756   0.370338\n",
       " 0.866201   0.495821  0.744117  0.242896      0.271046   0.492313  0.80474 \n",
       " 0.103809   0.693041  0.426236  0.295297      0.151409   0.901746  0.123584"
      ]
     },
     "execution_count": 17,
     "metadata": {},
     "output_type": "execute_result"
    }
   ],
   "source": [
    "res = real(ifft(fft(x)))"
   ]
  },
  {
   "cell_type": "code",
   "execution_count": 18,
   "metadata": {},
   "outputs": [
    {
     "data": {
      "text/plain": [
       "false"
      ]
     },
     "execution_count": 18,
     "metadata": {},
     "output_type": "execute_result"
    }
   ],
   "source": [
    "res == x"
   ]
  },
  {
   "cell_type": "markdown",
   "metadata": {},
   "source": [
    "Still not $= x$ ? Maybe numeric error?"
   ]
  },
  {
   "cell_type": "code",
   "execution_count": 13,
   "metadata": {},
   "outputs": [
    {
     "data": {
      "text/plain": [
       "true"
      ]
     },
     "execution_count": 13,
     "metadata": {},
     "output_type": "execute_result"
    }
   ],
   "source": [
    "norm(round.(res - x, 14)) == 0"
   ]
  },
  {
   "cell_type": "markdown",
   "metadata": {},
   "source": [
    "Ahh, done!"
   ]
  },
  {
   "cell_type": "markdown",
   "metadata": {},
   "source": [
    "## Text cells"
   ]
  },
  {
   "cell_type": "markdown",
   "metadata": {},
   "source": [
    "And this is the Jupyter notebook!\n",
    "\n",
    "With math inside $$\\cos(x)^2 + \\sin(x)^2 = 1 ?$$"
   ]
  },
  {
   "cell_type": "markdown",
   "metadata": {},
   "source": [
    "And text formatted in **Markdown**, *an easy markup language*!\n",
    "\n",
    "- list\n",
    "- list\n",
    "\n",
    "[link](http://exemple.com/)"
   ]
  },
  {
   "cell_type": "markdown",
   "metadata": {},
   "source": [
    "![awesome!](https://perso.crans.org/besson/favicon.ico)"
   ]
  },
  {
   "cell_type": "markdown",
   "metadata": {},
   "source": [
    "## End of demo"
   ]
  }
 ],
 "metadata": {
  "kernelspec": {
   "display_name": "Julia 0.6.0",
   "language": "julia",
   "name": "julia-0.6"
  },
  "language_info": {
   "file_extension": ".jl",
   "mimetype": "application/julia",
   "name": "julia",
   "version": "0.6.0"
  },
  "toc": {
   "colors": {
    "hover_highlight": "#DAA520",
    "running_highlight": "#FF0000",
    "selected_highlight": "#FFD700"
   },
   "moveMenuLeft": true,
   "nav_menu": {
    "height": "126px",
    "width": "251px"
   },
   "navigate_menu": true,
   "number_sections": false,
   "sideBar": false,
   "threshold": 4,
   "toc_cell": false,
   "toc_section_display": "block",
   "toc_window_display": false
  },
  "varInspector": {
   "cols": {
    "lenName": 16,
    "lenType": 16,
    "lenVar": 40
   },
   "kernels_config": {
    "python": {
     "delete_cmd_postfix": "",
     "delete_cmd_prefix": "del ",
     "library": "var_list.py",
     "varRefreshCmd": "print(var_dic_list())"
    },
    "r": {
     "delete_cmd_postfix": ") ",
     "delete_cmd_prefix": "rm(",
     "library": "var_list.r",
     "varRefreshCmd": "cat(var_dic_list()) "
    }
   },
   "types_to_exclude": [
    "module",
    "function",
    "builtin_function_or_method",
    "instance",
    "_Feature"
   ],
   "window_display": false
  }
 },
 "nbformat": 4,
 "nbformat_minor": 2
}
