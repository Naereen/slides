{
 "cells": [
  {
   "cell_type": "markdown",
   "metadata": {
    "toc": "true"
   },
   "source": [
    "# Table of Contents\n",
    " <p><div class=\"lev1 toc-item\"><a href=\"#This-is-a-short-demo-of-Julia\" data-toc-modified-id=\"This-is-a-short-demo-of-Julia-1\"><span class=\"toc-item-num\">1&nbsp;&nbsp;</span>This is a short demo of Julia</a></div><div class=\"lev2 toc-item\"><a href=\"#Hello-world\" data-toc-modified-id=\"Hello-world-11\"><span class=\"toc-item-num\">1.1&nbsp;&nbsp;</span>Hello world</a></div><div class=\"lev2 toc-item\"><a href=\"#A-simple-math-example\" data-toc-modified-id=\"A-simple-math-example-12\"><span class=\"toc-item-num\">1.2&nbsp;&nbsp;</span>A simple math example</a></div><div class=\"lev2 toc-item\"><a href=\"#Text-cells\" data-toc-modified-id=\"Text-cells-13\"><span class=\"toc-item-num\">1.3&nbsp;&nbsp;</span>Text cells</a></div><div class=\"lev2 toc-item\"><a href=\"#More-about-the-JIT-compilation-aspect\" data-toc-modified-id=\"More-about-the-JIT-compilation-aspect-14\"><span class=\"toc-item-num\">1.4&nbsp;&nbsp;</span>More about the JIT compilation aspect</a></div><div class=\"lev3 toc-item\"><a href=\"#Low-level-code\" data-toc-modified-id=\"Low-level-code-141\"><span class=\"toc-item-num\">1.4.1&nbsp;&nbsp;</span>Low-level code</a></div><div class=\"lev3 toc-item\"><a href=\"#LLVM-bytecode\" data-toc-modified-id=\"LLVM-bytecode-142\"><span class=\"toc-item-num\">1.4.2&nbsp;&nbsp;</span>LLVM bytecode</a></div><div class=\"lev3 toc-item\"><a href=\"#Native-assembly-code\" data-toc-modified-id=\"Native-assembly-code-143\"><span class=\"toc-item-num\">1.4.3&nbsp;&nbsp;</span>Native assembly code</a></div><div class=\"lev2 toc-item\"><a href=\"#End-of-demo\" data-toc-modified-id=\"End-of-demo-15\"><span class=\"toc-item-num\">1.5&nbsp;&nbsp;</span>End of demo</a></div>"
   ]
  },
  {
   "cell_type": "markdown",
   "metadata": {},
   "source": [
    "# This is a short demo of Julia"
   ]
  },
  {
   "cell_type": "markdown",
   "metadata": {},
   "source": [
    "> To learn more, check the [Julia documentation](https://docs.julialang.org/)!"
   ]
  },
  {
   "cell_type": "markdown",
   "metadata": {},
   "source": [
    "<img src=\"slides/common/LogoIETR.png\" width=35%>"
   ]
  },
  {
   "cell_type": "markdown",
   "metadata": {},
   "source": [
    "## Hello world"
   ]
  },
  {
   "cell_type": "code",
   "execution_count": 1,
   "metadata": {
    "scrolled": true
   },
   "outputs": [
    {
     "name": "stdout",
     "output_type": "stream",
     "text": [
      "Hello from Julia + Jupyter!\n"
     ]
    }
   ],
   "source": [
    "println(\"Hello from Julia + Jupyter!\")"
   ]
  },
  {
   "cell_type": "markdown",
   "metadata": {},
   "source": [
    "## A simple math example\n",
    "\n",
    "$$\\text{For } x \\in\\mathbb{R}^{n,n}, \\text{ can we check that } \\;\\; iFFT(FFT(x)) = x \\; ?$$"
   ]
  },
  {
   "cell_type": "code",
   "execution_count": 2,
   "metadata": {},
   "outputs": [
    {
     "data": {
      "text/plain": [
       "10×10 Array{Float64,2}:\n",
       " 0.11452    0.0505716  0.489618   …  0.556034   0.832076  0.362227\n",
       " 0.996257   0.994125   0.248775      0.717112   0.364164  0.16931 \n",
       " 0.267855   0.990583   0.782963      0.290802   0.81838   0.728612\n",
       " 0.559721   0.441038   0.0100149     0.0127647  0.174164  0.162626\n",
       " 0.587522   0.376975   0.664357      0.237261   0.747896  0.246015\n",
       " 0.443439   0.416129   0.244269   …  0.382976   0.161456  0.211124\n",
       " 0.0364143  0.564132   0.161279      0.862939   0.962404  0.525302\n",
       " 0.948328   0.0918449  0.222989      0.189344   0.126731  0.906889\n",
       " 0.313597   0.172418   0.488971      0.485674   0.640284  0.925315\n",
       " 0.801571   0.721957   0.851353      0.73312    0.822531  0.222637"
      ]
     },
     "execution_count": 2,
     "metadata": {},
     "output_type": "execute_result"
    }
   ],
   "source": [
    "x = rand(10, 10)  # uniform in [0,1]^{10,10}"
   ]
  },
  {
   "cell_type": "code",
   "execution_count": 3,
   "metadata": {},
   "outputs": [
    {
     "data": {
      "text/plain": [
       "10×10 Array{Complex{Float64},2}:\n",
       "   47.4988+0.0im         0.152947+1.01744im   …    0.152947-1.01744im \n",
       "   4.56781+0.678508im    -3.96938+0.239808im        2.08299-2.19312im \n",
       " -0.131603+0.242113im    -1.27996+0.700522im       -2.80078-2.55333im \n",
       "  -3.81691+0.36695im   -0.0227323+1.18963im        0.181919-1.0841im  \n",
       "  -5.56115+1.55063im     0.909882+1.6275im         -1.08202+1.98417im \n",
       "   1.39856+0.0im        -0.223887+2.06812im   …   -0.223887-2.06812im \n",
       "  -5.56115-1.55063im     -1.08202-1.98417im        0.909882-1.6275im  \n",
       "  -3.81691-0.36695im     0.181919+1.0841im       -0.0227323-1.18963im \n",
       " -0.131603-0.242113im    -2.80078+2.55333im        -1.27996-0.700522im\n",
       "   4.56781-0.678508im     2.08299+2.19312im        -3.96938-0.239808im"
      ]
     },
     "execution_count": 3,
     "metadata": {},
     "output_type": "execute_result"
    }
   ],
   "source": [
    "fft(x)"
   ]
  },
  {
   "cell_type": "code",
   "execution_count": 4,
   "metadata": {},
   "outputs": [
    {
     "data": {
      "text/plain": [
       "10×10 Array{Complex{Float64},2}:\n",
       "   0.11452+0.0im  0.0505716+0.0im  …  0.832076+0.0im  0.362227+0.0im\n",
       "  0.996257+0.0im   0.994125+0.0im     0.364164+0.0im   0.16931+0.0im\n",
       "  0.267855+0.0im   0.990583+0.0im      0.81838+0.0im  0.728612+0.0im\n",
       "  0.559721+0.0im   0.441038+0.0im     0.174164+0.0im  0.162626+0.0im\n",
       "  0.587522+0.0im   0.376975+0.0im     0.747896+0.0im  0.246015+0.0im\n",
       "  0.443439+0.0im   0.416129+0.0im  …  0.161456+0.0im  0.211124+0.0im\n",
       " 0.0364143+0.0im   0.564132+0.0im     0.962404+0.0im  0.525302+0.0im\n",
       "  0.948328+0.0im  0.0918449+0.0im     0.126731+0.0im  0.906889+0.0im\n",
       "  0.313597+0.0im   0.172418+0.0im     0.640284+0.0im  0.925315+0.0im\n",
       "  0.801571+0.0im   0.721957+0.0im     0.822531+0.0im  0.222637+0.0im"
      ]
     },
     "execution_count": 4,
     "metadata": {},
     "output_type": "execute_result"
    }
   ],
   "source": [
    "ifft(fft(x))"
   ]
  },
  {
   "cell_type": "markdown",
   "metadata": {},
   "source": [
    "It's complex? Let's take its real part!"
   ]
  },
  {
   "cell_type": "code",
   "execution_count": 5,
   "metadata": {},
   "outputs": [
    {
     "data": {
      "text/plain": [
       "10×10 Array{Float64,2}:\n",
       " 0.11452    0.0505716  0.489618   …  0.556034   0.832076  0.362227\n",
       " 0.996257   0.994125   0.248775      0.717112   0.364164  0.16931 \n",
       " 0.267855   0.990583   0.782963      0.290802   0.81838   0.728612\n",
       " 0.559721   0.441038   0.0100149     0.0127647  0.174164  0.162626\n",
       " 0.587522   0.376975   0.664357      0.237261   0.747896  0.246015\n",
       " 0.443439   0.416129   0.244269   …  0.382976   0.161456  0.211124\n",
       " 0.0364143  0.564132   0.161279      0.862939   0.962404  0.525302\n",
       " 0.948328   0.0918449  0.222989      0.189344   0.126731  0.906889\n",
       " 0.313597   0.172418   0.488971      0.485674   0.640284  0.925315\n",
       " 0.801571   0.721957   0.851353      0.73312    0.822531  0.222637"
      ]
     },
     "execution_count": 5,
     "metadata": {},
     "output_type": "execute_result"
    }
   ],
   "source": [
    "res = real(ifft(fft(x)))"
   ]
  },
  {
   "cell_type": "code",
   "execution_count": 6,
   "metadata": {},
   "outputs": [
    {
     "data": {
      "text/plain": [
       "false"
      ]
     },
     "execution_count": 6,
     "metadata": {},
     "output_type": "execute_result"
    }
   ],
   "source": [
    "res == x"
   ]
  },
  {
   "cell_type": "markdown",
   "metadata": {},
   "source": [
    "Still not $= x$ ? Maybe numeric error?"
   ]
  },
  {
   "cell_type": "code",
   "execution_count": 7,
   "metadata": {},
   "outputs": [
    {
     "data": {
      "text/plain": [
       "true"
      ]
     },
     "execution_count": 7,
     "metadata": {},
     "output_type": "execute_result"
    }
   ],
   "source": [
    "norm(round.(res - x, 14)) == 0"
   ]
  },
  {
   "cell_type": "markdown",
   "metadata": {},
   "source": [
    "Ahh, done!"
   ]
  },
  {
   "cell_type": "markdown",
   "metadata": {},
   "source": [
    "## Text cells"
   ]
  },
  {
   "cell_type": "markdown",
   "metadata": {},
   "source": [
    "And this is the Jupyter notebook!\n",
    "\n",
    "With math inside $$\\cos(x)^2 + \\sin(x)^2 = 1 ?$$"
   ]
  },
  {
   "cell_type": "markdown",
   "metadata": {},
   "source": [
    "And text formatted in **Markdown**, *an easy markup language*!\n",
    "\n",
    "- list\n",
    "- list\n",
    "\n",
    "[link](http://exemple.com/)"
   ]
  },
  {
   "cell_type": "markdown",
   "metadata": {},
   "source": [
    "----\n",
    "## More about the JIT compilation aspect\n",
    "\n",
    "This part is more technical. For a reference, see [this page on the documentation](https://docs.julialang.org/en/stable/devdocs/reflection/#Intermediate-and-compiled-representations-1) or [this StackOverflow question](https://stackoverflow.com/questions/43453944/what-is-the-difference-between-code-native-code-typed-and-code-llvm-in-julia).\n",
    "\n",
    "Let's study a simple numerical function for the example, the [Gauss-Legendre formula](https://en.wikipedia.org/wiki/Gauss%E2%80%93Legendre_algorithm) to compute digits of $\\pi$:"
   ]
  },
  {
   "cell_type": "code",
   "execution_count": 8,
   "metadata": {},
   "outputs": [
    {
     "data": {
      "text/plain": [
       "gauss_legendre (generic function with 1 method)"
      ]
     },
     "execution_count": 8,
     "metadata": {},
     "output_type": "execute_result"
    }
   ],
   "source": [
    "function gauss_legendre(max_step)\n",
    "    a = 1.0\n",
    "    b = 1.0 / sqrt(2)\n",
    "    t = 1.0 / 4.0\n",
    "    p = 1.0\n",
    "    for i in 1:max_step\n",
    "        at = (a + b) / 2.0\n",
    "        bt = sqrt(a * b)\n",
    "        tt = t - p*(a-at)^2\n",
    "        pt = 2.0 * p\n",
    "        a, b, t, p = at, bt, tt, pt\n",
    "    end\n",
    "    return ((a + b)^2) / (4.0 * t)\n",
    "end"
   ]
  },
  {
   "cell_type": "markdown",
   "metadata": {},
   "source": [
    "It is an efficient method with converges very quickly to $\\pi$:"
   ]
  },
  {
   "cell_type": "code",
   "execution_count": 9,
   "metadata": {},
   "outputs": [
    {
     "name": "stdout",
     "output_type": "stream",
     "text": [
      "2.914213562373095\n",
      "3.1405792505221686\n",
      "3.141592646213543\n",
      "3.141592653589794\n",
      "π = 3.1415926535897...\n"
     ]
    }
   ],
   "source": [
    "println(gauss_legendre(0))\n",
    "println(gauss_legendre(1))\n",
    "println(gauss_legendre(2))\n",
    "println(gauss_legendre(10))\n",
    "println(pi)"
   ]
  },
  {
   "cell_type": "markdown",
   "metadata": {},
   "source": [
    "### Low-level code"
   ]
  },
  {
   "cell_type": "markdown",
   "metadata": {},
   "source": [
    "Let's explore the code in a low-level format but without optimization, using the [`@code_lowered`](https://docs.julialang.org/en/stable/stdlib/base/#Base.@code_lowered) decorator.\n",
    "It's still readable:"
   ]
  },
  {
   "cell_type": "code",
   "execution_count": 10,
   "metadata": {},
   "outputs": [
    {
     "data": {
      "text/plain": [
       "CodeInfo(:(begin \n",
       "        nothing\n",
       "        a = 1.0 # line 3:\n",
       "        b = 1.0 / (Main.sqrt)(2) # line 4:\n",
       "        t = 1.0 / 4.0 # line 5:\n",
       "        p = 1.0 # line 6:\n",
       "        SSAValue(0) = (Main.colon)(1, max_step)\n",
       "        #temp# = (Base.start)(SSAValue(0))\n",
       "        12: \n",
       "        unless !((Base.done)(SSAValue(0), #temp#)) goto 32\n",
       "        SSAValue(1) = (Base.next)(SSAValue(0), #temp#)\n",
       "        i = (Core.getfield)(SSAValue(1), 1)\n",
       "        #temp# = (Core.getfield)(SSAValue(1), 2) # line 7:\n",
       "        at = (a + b) / 2.0 # line 8:\n",
       "        bt = (Main.sqrt)(a * b) # line 9:\n",
       "        tt = t - p * (Base.literal_pow)(Main.^, a - at, (Core.apply_type)(Base.Val, 2)) # line 10:\n",
       "        pt = 2.0 * p # line 11:\n",
       "        a = at\n",
       "        b = bt\n",
       "        t = tt\n",
       "        p = pt\n",
       "        30: \n",
       "        goto 12\n",
       "        32:  # line 13:\n",
       "        return (Base.literal_pow)(Main.^, a + b, (Core.apply_type)(Base.Val, 2)) / (4.0 * t)\n",
       "    end))"
      ]
     },
     "execution_count": 10,
     "metadata": {},
     "output_type": "execute_result"
    }
   ],
   "source": [
    "@code_lowered gauss_legendre(10)"
   ]
  },
  {
   "cell_type": "markdown",
   "metadata": {},
   "source": [
    "### LLVM bytecode"
   ]
  },
  {
   "cell_type": "markdown",
   "metadata": {},
   "source": [
    "Then we can have a look at the [LLVM](http://llvm.org/) [bytecode](https://en.wikipedia.org/wiki/Bytecode), using the [`@code_llvm`](https://docs.julialang.org/en/stable/stdlib/base/#Base.@code_llvm) decorator.\n",
    "We see a lot of `i64` tags, they are reference to 64-bits integer."
   ]
  },
  {
   "cell_type": "code",
   "execution_count": 26,
   "metadata": {},
   "outputs": [
    {
     "name": "stdout",
     "output_type": "stream",
     "text": [
      "\n",
      "define double @julia_gauss_legendre_61242(i64) #0 !dbg !5 {\n",
      "top:\n",
      "  %1 = icmp slt i64 %0, 1\n",
      "  br i1 %1, label %L33, label %if.preheader\n",
      "\n",
      "if.preheader:                                     ; preds = %top\n",
      "  br label %if\n",
      "\n",
      "if:                                               ; preds = %if.preheader, %pass2\n",
      "  %p.sroa.0.015 = phi i64 [ %17, %pass2 ], [ 4607182418800017408, %if.preheader ]\n",
      "  %t.sroa.0.014 = phi double [ %15, %pass2 ], [ 2.500000e-01, %if.preheader ]\n",
      "  %b.sroa.0.013 = phi double [ %10, %pass2 ], [ 0x3FE6A09E667F3BCC, %if.preheader ]\n",
      "  %a.sroa.0.012 = phi double [ %8, %pass2 ], [ 1.000000e+00, %if.preheader ]\n",
      "  %\"#temp#.011\" = phi i64 [ %9, %pass2 ], [ 1, %if.preheader ]\n",
      "  %2 = fmul double %a.sroa.0.012, %b.sroa.0.013\n",
      "  %3 = fcmp uge double %2, 0.000000e+00\n",
      "  br i1 %3, label %pass2, label %fail1\n",
      "\n",
      "L12.L33_crit_edge:                                ; preds = %pass2\n",
      "  %phitmp = fmul double %15, 4.000000e+00\n",
      "  br label %L33\n",
      "\n",
      "L33:                                              ; preds = %L12.L33_crit_edge, %top\n",
      "  %a.sroa.0.0.lcssa = phi double [ %8, %L12.L33_crit_edge ], [ 1.000000e+00, %top ]\n",
      "  %b.sroa.0.0.lcssa = phi double [ %10, %L12.L33_crit_edge ], [ 0x3FE6A09E667F3BCC, %top ]\n",
      "  %t.sroa.0.0.lcssa = phi double [ %phitmp, %L12.L33_crit_edge ], [ 1.000000e+00, %top ]\n",
      "  %4 = fadd double %a.sroa.0.0.lcssa, %b.sroa.0.0.lcssa\n",
      "  %5 = fmul double %4, %4\n",
      "  %6 = fdiv double %5, %t.sroa.0.0.lcssa\n",
      "  ret double %6\n",
      "\n",
      "fail1:                                            ; preds = %if\n",
      "  call void @jl_throw(i8** inttoptr (i64 139946592941952 to i8**))\n",
      "  unreachable\n",
      "\n",
      "pass2:                                            ; preds = %if\n",
      "  %7 = fadd double %a.sroa.0.012, %b.sroa.0.013\n",
      "  %8 = fmul double %7, 5.000000e-01\n",
      "  %9 = add i64 %\"#temp#.011\", 1\n",
      "  %10 = call double @llvm.sqrt.f64(double %2)\n",
      "  %11 = fsub double %a.sroa.0.012, %8\n",
      "  %12 = fmul double %11, %11\n",
      "  %13 = bitcast i64 %p.sroa.0.015 to double\n",
      "  %14 = fmul double %13, %12\n",
      "  %15 = fsub double %t.sroa.0.014, %14\n",
      "  %16 = fmul double %13, 2.000000e+00\n",
      "  %17 = bitcast double %16 to i64\n",
      "  %18 = icmp eq i64 %\"#temp#.011\", %0\n",
      "  br i1 %18, label %L12.L33_crit_edge, label %if\n",
      "}\n"
     ]
    }
   ],
   "source": [
    "@code_llvm gauss_legendre(10)"
   ]
  },
  {
   "cell_type": "markdown",
   "metadata": {},
   "source": [
    "### Native assembly code"
   ]
  },
  {
   "cell_type": "markdown",
   "metadata": {},
   "source": [
    "Finally we can look at the assembly native code generated *on the fly* by the JIT compiler of Julia, using the [`@code_native`](https://docs.julialang.org/en/stable/stdlib/base/#Base.@code_native) decorator.\n",
    "Such assembly code is hard to write by yourself but one can still understand what it does:"
   ]
  },
  {
   "cell_type": "code",
   "execution_count": 27,
   "metadata": {},
   "outputs": [
    {
     "name": "stdout",
     "output_type": "stream",
     "text": [
      "\t.text\n",
      "Filename: In[21]\n",
      "\tmovabsq\t$139946325965352, %rcx  # imm = 0x7F47CB0BFA28\n",
      "\tmovabsq\t$139946325965360, %rdx  # imm = 0x7F47CB0BFA30\n",
      "Source line: 6\n",
      "\ttestq\t%rdi, %rdi\n",
      "\tjle\tL168\n",
      "\tmovabsq\t$4607182418800017408, %rax # imm = 0x3FF0000000000000\n",
      "\tmovsd\t(%rdx), %xmm5           # xmm5 = mem[0],zero\n",
      "\tmovsd\t(%rcx), %xmm2           # xmm2 = mem[0],zero\n",
      "\tmovabsq\t$139946325965368, %rcx  # imm = 0x7F47CB0BFA38\n",
      "\tmovsd\t(%rcx), %xmm1           # xmm1 = mem[0],zero\n",
      "Source line: 8\n",
      "\txorps\t%xmm3, %xmm3\n",
      "\tmovabsq\t$139946325965376, %rcx  # imm = 0x7F47CB0BFA40\n",
      "\tmovsd\t(%rcx), %xmm4           # xmm4 = mem[0],zero\n",
      "\tnop\n",
      "L80:\n",
      "\tmovapd\t%xmm5, %xmm6\n",
      "\tmulsd\t%xmm2, %xmm6\n",
      "\tucomisd\t%xmm6, %xmm3\n",
      "\tja\tL193\n",
      "Source line: 7\n",
      "\taddsd\t%xmm5, %xmm2\n",
      "\tmovapd\t%xmm2, %xmm0\n",
      "\tmulsd\t%xmm4, %xmm0\n",
      "Source line: 8\n",
      "\txorps\t%xmm2, %xmm2\n",
      "\tsqrtsd\t%xmm6, %xmm2\n",
      "Source line: 9\n",
      "\tsubsd\t%xmm0, %xmm5\n",
      "\tmulsd\t%xmm5, %xmm5\n",
      "\tmovd\t%rax, %xmm6\n",
      "\tmulsd\t%xmm6, %xmm5\n",
      "\tsubsd\t%xmm5, %xmm1\n",
      "Source line: 10\n",
      "\taddsd\t%xmm6, %xmm6\n",
      "\tmovd\t%xmm6, %rax\n",
      "Source line: 6\n",
      "\tdecq\t%rdi\n",
      "\tmovapd\t%xmm0, %xmm5\n",
      "\tjne\tL80\n",
      "\tmovabsq\t$139946325965384, %rax  # imm = 0x7F47CB0BFA48\n",
      "\tmulsd\t(%rax), %xmm1\n",
      "\tjmp\tL180\n",
      "L168:\n",
      "\tmovsd\t(%rcx), %xmm2           # xmm2 = mem[0],zero\n",
      "\tmovsd\t(%rdx), %xmm0           # xmm0 = mem[0],zero\n",
      "\tmovapd\t%xmm0, %xmm1\n",
      "Source line: 13\n",
      "L180:\n",
      "\taddsd\t%xmm2, %xmm0\n",
      "\tmulsd\t%xmm0, %xmm0\n",
      "\tdivsd\t%xmm1, %xmm0\n",
      "\tretq\n",
      "L193:\n",
      "\tpushq\t%rbp\n",
      "\tmovq\t%rsp, %rbp\n",
      "Source line: 8\n",
      "\tmovabsq\t$jl_throw, %rax\n",
      "\tmovabsq\t$139946592941952, %rdi  # imm = 0x7F47DAF5B780\n",
      "\tcallq\t*%rax\n",
      "\tnopl\t(%rax,%rax)\n"
     ]
    }
   ],
   "source": [
    "@code_native gauss_legendre(10)"
   ]
  },
  {
   "cell_type": "markdown",
   "metadata": {},
   "source": [
    "We can see the different steps in Julia's compiler, from a high-level Julia code to a low-level assembly code that is compiled to native code and executed at optimal speed.\n",
    "**All this happens automatically** when using any Julia function:"
   ]
  },
  {
   "cell_type": "code",
   "execution_count": 11,
   "metadata": {},
   "outputs": [
    {
     "name": "stdout",
     "output_type": "stream",
     "text": [
      "  0.000008 seconds (85 allocations: 6.451 KiB)\n"
     ]
    },
    {
     "data": {
      "text/plain": [
       "3.141592653589794"
      ]
     },
     "execution_count": 11,
     "metadata": {},
     "output_type": "execute_result"
    }
   ],
   "source": [
    "@time gauss_legendre(10)"
   ]
  },
  {
   "cell_type": "markdown",
   "metadata": {},
   "source": [
    "## End of demo\n",
    "\n",
    "This file and the slides are open-source, at [pierre-haessig/julia-presentation-ietr2018 on github.com](https://github.com/pierre-haessig/julia-presentation-ietr2018)."
   ]
  }
 ],
 "metadata": {
  "kernelspec": {
   "display_name": "Julia 0.6.0",
   "language": "julia",
   "name": "julia-0.6"
  },
  "language_info": {
   "file_extension": ".jl",
   "mimetype": "application/julia",
   "name": "julia",
   "version": "0.6.0"
  },
  "toc": {
   "colors": {
    "hover_highlight": "#DAA520",
    "running_highlight": "#FF0000",
    "selected_highlight": "#FFD700"
   },
   "moveMenuLeft": true,
   "nav_menu": {
    "height": "126px",
    "width": "251px"
   },
   "navigate_menu": true,
   "number_sections": true,
   "sideBar": false,
   "threshold": 4,
   "toc_cell": true,
   "toc_section_display": "block",
   "toc_window_display": false
  },
  "varInspector": {
   "cols": {
    "lenName": 16,
    "lenType": 16,
    "lenVar": 40
   },
   "kernels_config": {
    "python": {
     "delete_cmd_postfix": "",
     "delete_cmd_prefix": "del ",
     "library": "var_list.py",
     "varRefreshCmd": "print(var_dic_list())"
    },
    "r": {
     "delete_cmd_postfix": ") ",
     "delete_cmd_prefix": "rm(",
     "library": "var_list.r",
     "varRefreshCmd": "cat(var_dic_list()) "
    }
   },
   "types_to_exclude": [
    "module",
    "function",
    "builtin_function_or_method",
    "instance",
    "_Feature"
   ],
   "window_display": false
  }
 },
 "nbformat": 4,
 "nbformat_minor": 2
}
