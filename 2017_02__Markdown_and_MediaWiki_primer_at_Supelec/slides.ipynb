{
 "cells": [
  {
   "cell_type": "markdown",
   "metadata": {
    "deletable": true,
    "editable": true,
    "slideshow": {
     "slide_type": "slide"
    }
   },
   "source": [
    "# GouTP @ SCEE\n",
    "\n",
    "- *About:*\n",
    "  - Markdown: concept, syntax, tools\n",
    "  - Wiki & MediaWiki\n",
    "\n",
    "- *Date:*\n",
    "  23 Feb 2017\n",
    "\n",
    "- *Who:*\n",
    "  Lilian Besson, `lilian.besson@supelec`"
   ]
  },
  {
   "cell_type": "markdown",
   "metadata": {
    "deletable": true,
    "editable": true,
    "slideshow": {
     "slide_type": "slide"
    }
   },
   "source": [
    "# Outline\n",
    "0. Intro: markup languages\n",
    "\n",
    "1. Markdown\n",
    "   - Syntax, examples\n",
    "   - Experiment with *Markdown* !\n",
    "   - 2 tools: demo of *Typora* and *Marp*\n",
    "   - Pro tool : `pandoc` (another GouTP)\n",
    "\n",
    "2. MediaWiki\n",
    "   - For Wikipedia, and our internal SCEE Wiki"
   ]
  },
  {
   "cell_type": "markdown",
   "metadata": {
    "deletable": true,
    "editable": true,
    "slideshow": {
     "slide_type": "slide"
    }
   },
   "source": [
    "# Intro: why using markup languages?\n",
    "## Facts\n",
    "- $\\LaTeX{}$ and HTML can be painful to write manually\n",
    "- Hard to read and parse for a human, and need a learning time\n",
    "\n",
    "## Solution ?\n",
    "- Use a **markup language as simple as possible**\n",
    "- For many use, a lightweight markup language is enough:\n",
    "  1. write *simple text* with light markup\n",
    "  2. *convert* the text to PDF, $\\LaTeX{}$, HTML etc.\n",
    "- Example: *Wikipedia* pages are not written in HTML ..."
   ]
  },
  {
   "cell_type": "markdown",
   "metadata": {
    "deletable": true,
    "editable": true,
    "slideshow": {
     "slide_type": "slide"
    }
   },
   "source": [
    "# 1. Markdown\n",
    "> Close to the \"natural\" syntax we use in emails\n",
    "\n",
    "- Emphasis: `*italic*`, `**bold**`, `~~striked~~`\n",
    "- Lists: unumbered with `- item`, numbered with `1. item`\n",
    "- Titles: `# Title 1`, `## Heading 2`, `### Heading 3` etc\n",
    "- Links: `[text](address)` and image: `![alt](cat.png)`\n",
    "- Quote: like emails, `> quote ...`"
   ]
  },
  {
   "cell_type": "markdown",
   "metadata": {
    "deletable": true,
    "editable": true,
    "slideshow": {
     "slide_type": "slide"
    }
   },
   "source": [
    "# Example of Markdown output\n",
    "## Heading 2\n",
    "- Emphasis: *italic*, **bold**, ~~striked~~\n",
    "- Lists, one item by line,:\n",
    "  1. unnumbered with `- item`\n",
    "  2. numbered with `1. item`\n",
    "\n",
    "### Heading 3\n",
    "- Links: [commonmark.org](http://commonmark.org)\n",
    "- and image: ![logo](https://raw.githubusercontent.com/dcurtis/markdown-mark/master/png/66x40-solid.png)\n",
    "> Quote: like emails, `> quote ...`"
   ]
  },
  {
   "cell_type": "markdown",
   "metadata": {
    "collapsed": true,
    "deletable": true,
    "editable": true,
    "slideshow": {
     "slide_type": "slide"
    }
   },
   "source": [
    "# Markdown tutorial\n",
    "> No official reference for the syntax, but the best reference is [CommonMark (`CommonMark.org`)](http://commonmark.org/)\n",
    "\n",
    "- Markup reference: [`CommonMark.org/help`](http://commonmark.org/help/)\n",
    "\n",
    "- 5 minutes tutorial: [`CommonMark.org/help/tutorial`](http://commonmark.org/help/)\n",
    "  → **Let's do it now!**\n",
    "\n",
    "> There is plenty of syntax extensions: for tables, footnotes, etc"
   ]
  },
  {
   "cell_type": "markdown",
   "metadata": {
    "collapsed": true,
    "deletable": true,
    "editable": true,
    "slideshow": {
     "slide_type": "slide"
    }
   },
   "source": [
    "# *Demo time:* Typora for *notes*\n",
    "- Markdown *document* writer:\n",
    "  [`typora.io`](https://typora.io)\n",
    "\n",
    "<center><img width='50%' src='images/typora_screenshot.png' alt='Typora'></center>"
   ]
  },
  {
   "cell_type": "markdown",
   "metadata": {
    "collapsed": true,
    "deletable": true,
    "editable": true,
    "slideshow": {
     "slide_type": "slide"
    }
   },
   "source": [
    "# *Demo time:* Marp for *slides*\n",
    "\n",
    "- Markdown *presentation* writer, free and open-source:\n",
    "  [`yhatt.github.io/marp`](https://yhatt.github.io/marp/)\n",
    "\n",
    "<center><img width='60%' src='images/marp_screenshot.png' alt='Marp'></center>"
   ]
  },
  {
   "cell_type": "markdown",
   "metadata": {
    "collapsed": true,
    "deletable": true,
    "editable": true,
    "slideshow": {
     "slide_type": "slide"
    }
   },
   "source": [
    "# *Marp:* Features\n",
    "- Free and open-source\n",
    "- **Slides are written in pure Markdown.**\n",
    "- *Cross-platform*. Supports Windows, Mac, and Linux\n",
    "- *Live Preview* with 3 modes\n",
    "- Slide themes and custom background images\n",
    "- Supports emoji\n",
    "- Render maths in your slides:\n",
    "  $$\\mathrm{e}^{i \\pi} = -1$$\n",
    "- Export your slides to PDF"
   ]
  },
  {
   "cell_type": "markdown",
   "metadata": {
    "collapsed": true,
    "deletable": true,
    "editable": true,
    "slideshow": {
     "slide_type": "slide"
    }
   },
   "source": [
    "# 2. MediaWiki\n",
    "- A Wiki tool, free and open-source, powering Wikipedia\n",
    "  →  [mediawiki.org](https://www.mediawiki.org/)\n",
    "- Syntax very close to Markdown, only small differences\n",
    "\n",
    "Used internally @ SCEE for our MediaWiki: *demo time*\n",
    "[MediaWiki on WS4](http://172.16.3.80) (→ `HP-SCEE-1`, IP: `172.16.3.80`)\n",
    "\n",
    "- Log in, edit a page, save it\n",
    "  → **Let's try it now!**"
   ]
  },
  {
   "cell_type": "code",
   "execution_count": null,
   "metadata": {
    "collapsed": true
   },
   "outputs": [],
   "source": []
  },
  {
   "cell_type": "code",
   "execution_count": null,
   "metadata": {
    "collapsed": true
   },
   "outputs": [],
   "source": []
  },
  {
   "cell_type": "markdown",
   "metadata": {
    "collapsed": true,
    "deletable": true,
    "editable": true,
    "slideshow": {
     "slide_type": "slide"
    }
   },
   "source": [
    "# Conclusion\n",
    "- I hope you learned how to use **Markdown** & **MediaWiki**\n",
    "- Now... use it !\n",
    "- Try to edit our [SCEE MediaWiki](http://172.16.3.26), if you want to add content\n",
    "\n",
    "- If you are curious about a more complete use of Markdown, try to practice with it, and wait for next GouTP on **Advanced Markdown with `pandoc`** !\n",
    "\n",
    "\n",
    "> *Thanks for coming!*"
   ]
  },
  {
   "cell_type": "markdown",
   "metadata": {
    "collapsed": true,
    "deletable": true,
    "editable": true,
    "slideshow": {
     "slide_type": "slide"
    }
   },
   "source": [
    "## Demo of a Python cell"
   ]
  },
  {
   "cell_type": "code",
   "execution_count": 1,
   "metadata": {
    "ExecuteTime": {
     "end_time": "2017-02-22T15:26:15.189509Z",
     "start_time": "2017-02-22T16:26:14.969811+01:00"
    },
    "collapsed": true,
    "deletable": true,
    "editable": true
   },
   "outputs": [],
   "source": [
    "from numpy.random import *"
   ]
  },
  {
   "cell_type": "code",
   "execution_count": 2,
   "metadata": {
    "ExecuteTime": {
     "end_time": "2017-02-22T15:26:15.952185Z",
     "start_time": "2017-02-22T16:26:15.947370+01:00"
    },
    "code_folding": [],
    "collapsed": false,
    "deletable": true,
    "editable": true,
    "slideshow": {
     "slide_type": "fragment"
    }
   },
   "outputs": [],
   "source": [
    "def square(m):\n",
    "    \"\"\"square element wise.\"\"\"\n",
    "    return m ** 2"
   ]
  },
  {
   "cell_type": "code",
   "execution_count": 29,
   "metadata": {
    "ExecuteTime": {
     "end_time": "2017-02-22T15:26:16.789258Z",
     "start_time": "2017-02-22T16:26:16.771123+01:00"
    },
    "collapsed": false,
    "deletable": true,
    "editable": true,
    "slideshow": {
     "slide_type": "fragment"
    }
   },
   "outputs": [
    {
     "data": {
      "text/plain": [
       "array([  0,   8,  -1,   4,   6,   9,   7,   3,   5,   4,   3,   5,  -2,\n",
       "       -10,  -9,   2,   0,   7,   7,   4,  -8,   3,   1,  -2,   9,   1,\n",
       "        -9,   7,  -1,  -1,   4,   1,   8, -10,  -8,   6,   4,   8,   5,   5])"
      ]
     },
     "execution_count": 29,
     "metadata": {},
     "output_type": "execute_result"
    },
    {
     "data": {
      "text/plain": [
       "array([  0,  64,   1,  16,  36,  81,  49,   9,  25,  16,   9,  25,   4,\n",
       "       100,  81,   4,   0,  49,  49,  16,  64,   9,   1,   4,  81,   1,\n",
       "        81,  49,   1,   1,  16,   1,  64, 100,  64,  36,  16,  64,  25,  25])"
      ]
     },
     "execution_count": 29,
     "metadata": {},
     "output_type": "execute_result"
    }
   ],
   "source": [
    "m = randint(-10, 10, 40)\n",
    "m\n",
    "square(m)"
   ]
  },
  {
   "cell_type": "markdown",
   "metadata": {
    "collapsed": true,
    "deletable": true,
    "editable": true,
    "slideshow": {
     "slide_type": "notes"
    }
   },
   "source": [
    "Yey ! *Presenter notes!*"
   ]
  },
  {
   "cell_type": "markdown",
   "metadata": {
    "slideshow": {
     "slide_type": "slide"
    }
   },
   "source": [
    "## Example of plot in the slides"
   ]
  },
  {
   "cell_type": "code",
   "execution_count": 43,
   "metadata": {
    "collapsed": false,
    "slideshow": {
     "slide_type": "fragment"
    }
   },
   "outputs": [
    {
     "data": {
      "image/png": "[encoded data removed]",
      "text/plain": [
       "<matplotlib.figure.Figure at 0x7ffa34683f98>"
      ]
     },
     "metadata": {},
     "output_type": "display_data"
    }
   ],
   "source": [
    "import numpy as np\n",
    "%matplotlib inline\n",
    "import matplotlib.pyplot as plt\n",
    "\n",
    "X = np.linspace(-100, 100, 5000) * np.random.rand(5000)\n",
    "X = np.sort(X)\n",
    "plt.plot(np.cos(X), 'r');\n",
    "plt.plot(np.sin(X), 'b');\n",
    "plt.title(\"cos and sin\");"
   ]
  }
 ],
 "metadata": {
  "celltoolbar": "Slideshow",
  "kernelspec": {
   "display_name": "Python 3",
   "language": "python",
   "name": "python3"
  },
  "language_info": {
   "codemirror_mode": {
    "name": "ipython",
    "version": 3
   },
   "file_extension": ".py",
   "mimetype": "text/x-python",
   "name": "python",
   "nbconvert_exporter": "python",
   "pygments_lexer": "ipython3",
   "version": "3.5.2+"
  },
  "latex_envs": {
   "LaTeX_envs_menu_present": true,
   "autocomplete": true,
   "bibliofile": "biblio.bib",
   "cite_by": "apalike",
   "current_citInitial": 1,
   "eqLabelWithNumbers": true,
   "eqNumInitial": 1,
   "hotkeys": {
    "equation": "Ctrl-E",
    "itemize": "Ctrl-I"
   },
   "labels_anchors": false,
   "latex_user_defs": false,
   "report_style_numbering": false,
   "user_envs_cfg": false
  },
  "livereveal": {
   "scroll": true,
   "start_slideshow_at": "selected",
   "theme": "serif",
   "transition": "fade"
  },
  "notify_time": "10",
  "toc": {
   "colors": {
    "hover_highlight": "#DAA520",
    "running_highlight": "#FF0000",
    "selected_highlight": "#FFD700"
   },
   "moveMenuLeft": true,
   "nav_menu": {
    "height": "365px",
    "width": "251px"
   },
   "navigate_menu": true,
   "number_sections": false,
   "sideBar": true,
   "threshold": 4,
   "toc_cell": false,
   "toc_position": {
    "height": "521px",
    "left": "0px",
    "right": "1077px",
    "top": "116px",
    "width": "203px"
   },
   "toc_section_display": "block",
   "toc_window_display": false
  }
 },
 "nbformat": 4,
 "nbformat_minor": 2
}
