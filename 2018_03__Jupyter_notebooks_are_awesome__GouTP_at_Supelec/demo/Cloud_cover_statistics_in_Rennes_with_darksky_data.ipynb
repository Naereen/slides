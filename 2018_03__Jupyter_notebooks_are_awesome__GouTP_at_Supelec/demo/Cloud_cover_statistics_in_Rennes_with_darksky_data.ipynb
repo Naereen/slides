{
 "cells": [
  {
   "cell_type": "markdown",
   "metadata": {},
   "source": [
    "# Demo of a Jupyter notebook"
   ]
  },
  {
   "cell_type": "markdown",
   "metadata": {},
   "source": [
    "- Let's see which day was the sunnier in 2017 on our campus\n",
    "- With Python and weather data from https://darksky.net/dev/"
   ]
  },
  {
   "cell_type": "markdown",
   "metadata": {},
   "source": [
    "## Dependencies"
   ]
  },
  {
   "cell_type": "code",
   "execution_count": 1,
   "metadata": {},
   "outputs": [
    {
     "name": "stdout",
     "output_type": "stream",
     "text": [
      "Lilian Besson (Naereen) 2018-03-07T18:59:05+01:00\n",
      "\n",
      "CPython 3.6.3\n",
      "IPython 6.2.1\n",
      "\n",
      "numpy 1.14.1\n",
      "matplotlib 2.1.2\n"
     ]
    }
   ],
   "source": [
    "%load_ext watermark\n",
    "%watermark -a \"Lilian Besson (Naereen)\" -i -v -p numpy,matplotlib"
   ]
  },
  {
   "cell_type": "code",
   "execution_count": 2,
   "metadata": {},
   "outputs": [],
   "source": [
    "from os.path import expanduser, join\n",
    "from datetime import date, timedelta\n",
    "from dateutil.parser import parse\n",
    "from datetime import datetime as dt\n",
    "from json import load, dump\n",
    "\n",
    "import numpy as np\n",
    "\n",
    "import matplotlib.pyplot as plt\n",
    "from matplotlib.dates import DayLocator, HourLocator, DateFormatter\n",
    "\n",
    "try:\n",
    "    from darksky import forecast\n",
    "except ImportError as e:\n",
    "    print(\"Install 'darksky' module with 'pip install git+https://github.com/lukaskubis/darkskylib'...\")\n",
    "    raise e"
   ]
  },
  {
   "cell_type": "markdown",
   "metadata": {},
   "source": [
    "## Get the data"
   ]
  },
  {
   "cell_type": "code",
   "execution_count": 3,
   "metadata": {},
   "outputs": [],
   "source": [
    "def get_data(location, key, delay=365):\n",
    "    thisday = date.today()\n",
    "    oneday = timedelta(days=1)\n",
    "    alldata = {}\n",
    "    all_cloud_cover = {}\n",
    "    for d in range(delay):\n",
    "        t = thisday.isoformat()\n",
    "        if 'T' not in t:\n",
    "            t += 'T12:00:00'\n",
    "        try:\n",
    "            with forecast(key, *location, time=t) as weather:\n",
    "                alldata[thisday] = weather\n",
    "                all_cloud_cover[thisday] = weather[\"daily\"][\"data\"][0][\"cloudCover\"]\n",
    "                print(\"For the day\", thisday, \"the 'cloudCover' index was\", all_cloud_cover[thisday])\n",
    "        except:\n",
    "                all_cloud_cover[thisday] = np.nan\n",
    "                print(\"Missing data for\", thisday, \"so using a nan... it won't be included in the plots!\")\n",
    "        thisday = thisday - oneday\n",
    "    return alldata, all_cloud_cover"
   ]
  },
  {
   "cell_type": "markdown",
   "metadata": {},
   "source": [
    "We can try to be smart and load/backup the data if possible."
   ]
  },
  {
   "cell_type": "code",
   "execution_count": 4,
   "metadata": {},
   "outputs": [],
   "source": [
    "def save_data(all_cloud_cover, filename):\n",
    "    new_dict = dict()\n",
    "    for d, k in all_cloud_cover.items():\n",
    "        new_dict[d.isoformat()] = k\n",
    "    with open(filename, \"w\") as fp:\n",
    "        dump(new_dict, fp)"
   ]
  },
  {
   "cell_type": "code",
   "execution_count": 5,
   "metadata": {},
   "outputs": [],
   "source": [
    "def load_data(filename):\n",
    "    with open(filename, \"r\") as fp:\n",
    "        new_dict = load(fp)\n",
    "        all_cloud_cover = dict()\n",
    "        for d, k in new_dict.items():\n",
    "            dt = parse(d.replace('T12:00:00', ''))\n",
    "            all_cloud_cover[dt] = k\n",
    "    return all_cloud_cover"
   ]
  },
  {
   "cell_type": "markdown",
   "metadata": {},
   "source": [
    "See the data I already downloaded and extraded:"
   ]
  },
  {
   "cell_type": "code",
   "execution_count": 6,
   "metadata": {},
   "outputs": [
    {
     "name": "stdout",
     "output_type": "stream",
     "text": [
      "-rw-r--r-- 1 lilian lilian 7,1K janv. 25 14:07 all_cloud_cover__Briancon.json\r\n",
      "-rw-r--r-- 1 lilian lilian 7,1K janv. 25 14:09 all_cloud_cover.json\r\n"
     ]
    }
   ],
   "source": [
    "!ls -larth *.json"
   ]
  },
  {
   "cell_type": "markdown",
   "metadata": {},
   "source": [
    "## Plot the data"
   ]
  },
  {
   "cell_type": "code",
   "execution_count": 7,
   "metadata": {},
   "outputs": [],
   "source": [
    "def plot_data(all_cloud_cover, name):\n",
    "    Xs = np.array(list(all_cloud_cover.keys()))\n",
    "    Ys = np.array(list(all_cloud_cover.values()))\n",
    "\n",
    "    # Remove day where we couldn't find the data\n",
    "    are_nans = np.isnan(Ys)\n",
    "    Xs = Xs[~are_nans]\n",
    "    Ys = Ys[~are_nans]\n",
    "\n",
    "    fig, ax = plt.subplots()\n",
    "    ax.set_title(f\"Cloud cover index in {name}\")\n",
    "    ax.set_xlabel(\"Date\")\n",
    "    ax.set_ylabel(\"Cloud cover (0 is fully sunny, 1 is fully cloudy)\")\n",
    "    ax.plot_date(Xs, Ys, ms=5, marker='o', color='black')\n",
    "\n",
    "    ax.fmt_xdata = DateFormatter('%Y-%m-%d')\n",
    "    fig.autofmt_xdate()\n",
    "\n",
    "    plt.show()"
   ]
  },
  {
   "cell_type": "code",
   "execution_count": 8,
   "metadata": {},
   "outputs": [],
   "source": [
    "def plot_data_by_weekday(all_cloud_cover, name):\n",
    "    count_of_weekday = np.zeros(7)\n",
    "    data_by_weekday = np.zeros(7)\n",
    "    mean_by_weekday = np.zeros(7)\n",
    "    for x, y in all_cloud_cover.items():\n",
    "        if not np.isnan(y):\n",
    "            weekday = x.weekday()\n",
    "            count_of_weekday[weekday] += 1\n",
    "            data_by_weekday[weekday] += y\n",
    "            # print(\"For weekday\", weekday, \"one more count with cloud_cover =\", y)\n",
    "    for weekday in range(7):\n",
    "        mean_by_weekday[weekday] = data_by_weekday[weekday] / count_of_weekday[weekday]\n",
    "\n",
    "    plt.figure()\n",
    "    plt.title(f\"Mean cloud cover index in {name}, in 2017\")\n",
    "    plt.xlabel(\"Day of the week\")\n",
    "    plt.ylabel(\"Mean cloud cover (0 is fully sunny, 1 is fully cloudy)\")\n",
    "\n",
    "    days = [\"Mon\", \"Tue\", \"Wed\", \"Thu\", \"Fri\", \"Sat\", \"Sun\"]\n",
    "    x = np.arange(7)\n",
    "    plt.bar(x, mean_by_weekday, color=\"gold\")\n",
    "    plt.xticks(x, days)\n",
    "    plt.show()"
   ]
  },
  {
   "cell_type": "markdown",
   "metadata": {},
   "source": [
    "## Do all this"
   ]
  },
  {
   "cell_type": "code",
   "execution_count": 9,
   "metadata": {},
   "outputs": [
    {
     "name": "stdout",
     "output_type": "stream",
     "text": [
      "For localisation 'CentraleSupélec, Rennes' at location (48.1252316, -1.6255899)...\n"
     ]
    }
   ],
   "source": [
    "# CentraleSupélec, campus of Rennes, France\n",
    "name = \"CentraleSupélec, Rennes\"\n",
    "# 48° 6' 36\"N, 1° 40' 48\"W\n",
    "# https://www.google.fr/maps/place/Supélec/@48.1252316,-1.6255899,17z/\n",
    "location = 48.1252316, -1.6255899\n",
    "\n",
    "print(\"For localisation '{}' at location {}...\".format(name, location))"
   ]
  },
  {
   "cell_type": "code",
   "execution_count": 10,
   "metadata": {},
   "outputs": [],
   "source": [
    "# you need the Darksky API key\n",
    "with open(join(expanduser(\"~\"), \".darksky_api.key\"), \"r\") as f:\n",
    "    key = f.readline()"
   ]
  },
  {
   "cell_type": "markdown",
   "metadata": {},
   "source": [
    "Now, try to load the data, or fetch it and save it:"
   ]
  },
  {
   "cell_type": "code",
   "execution_count": 11,
   "metadata": {},
   "outputs": [
    {
     "name": "stdout",
     "output_type": "stream",
     "text": [
      "Trying to load the data from 'all_cloud_cover.json' ...\n",
      "Success in loading the data from 'all_cloud_cover.json' ...\n"
     ]
    }
   ],
   "source": [
    "try:\n",
    "    print(\"Trying to load the data from 'all_cloud_cover.json' ...\")\n",
    "    all_cloud_cover = load_data(\"all_cloud_cover.json\")\n",
    "    print(\"Success in loading the data from 'all_cloud_cover.json' ...\")\n",
    "except:\n",
    "    print(\"Failed to load the data from 'all_cloud_cover.json' ...\")\n",
    "    print(\"Using API to download data...\")\n",
    "    print(input(\"Enter to continue\"))\n",
    "    alldata, all_cloud_cover = get_data(location, key)\n",
    "    print(\"Trying to save the data from 'all_cloud_cover.json' ...\")\n",
    "    save_data(all_cloud_cover, \"all_cloud_cover.json\")\n",
    "    print(\"Success in saving the data from 'all_cloud_cover.json' ...\")"
   ]
  },
  {
   "cell_type": "code",
   "execution_count": 12,
   "metadata": {
    "scrolled": false
   },
   "outputs": [
    {
     "data": {
      "image/png": "[encoded data removed]",
      "text/plain": [
       "<matplotlib.figure.Figure at 0x7f01fc308940>"
      ]
     },
     "metadata": {},
     "output_type": "display_data"
    }
   ],
   "source": [
    "plot_data(all_cloud_cover, name)"
   ]
  },
  {
   "cell_type": "code",
   "execution_count": 13,
   "metadata": {
    "scrolled": false
   },
   "outputs": [
    {
     "data": {
      "image/png": "[encoded data removed]",
      "text/plain": [
       "<matplotlib.figure.Figure at 0x7f01f814ef98>"
      ]
     },
     "metadata": {},
     "output_type": "display_data"
    }
   ],
   "source": [
    "plot_data_by_weekday(all_cloud_cover, name)"
   ]
  },
  {
   "cell_type": "markdown",
   "metadata": {},
   "source": [
    "## Conclusion"
   ]
  },
  {
   "cell_type": "markdown",
   "metadata": {},
   "source": [
    "Hope you got a good overview of Jupyter notebooks."
   ]
  }
 ],
 "metadata": {
  "kernelspec": {
   "display_name": "Python 3",
   "language": "python",
   "name": "python3"
  },
  "language_info": {
   "codemirror_mode": {
    "name": "ipython",
    "version": 3
   },
   "file_extension": ".py",
   "mimetype": "text/x-python",
   "name": "python",
   "nbconvert_exporter": "python",
   "pygments_lexer": "ipython3",
   "version": "3.6.3"
  },
  "toc": {
   "colors": {
    "hover_highlight": "#DAA520",
    "running_highlight": "#FF0000",
    "selected_highlight": "#FFD700"
   },
   "moveMenuLeft": true,
   "nav_menu": {
    "height": "161px",
    "width": "252px"
   },
   "navigate_menu": true,
   "number_sections": true,
   "sideBar": false,
   "threshold": 4,
   "toc_cell": false,
   "toc_position": {
    "height": "239px",
    "left": "1217px",
    "right": "7px",
    "top": "483px",
    "width": "216px"
   },
   "toc_section_display": "block",
   "toc_window_display": true
  },
  "varInspector": {
   "cols": {
    "lenName": 16,
    "lenType": 16,
    "lenVar": 40
   },
   "kernels_config": {
    "python": {
     "delete_cmd_postfix": "",
     "delete_cmd_prefix": "del ",
     "library": "var_list.py",
     "varRefreshCmd": "print(var_dic_list())"
    },
    "r": {
     "delete_cmd_postfix": ") ",
     "delete_cmd_prefix": "rm(",
     "library": "var_list.r",
     "varRefreshCmd": "cat(var_dic_list()) "
    }
   },
   "position": {
    "height": "259px",
    "left": "929px",
    "right": "167.5px",
    "top": "114px",
    "width": "344px"
   },
   "types_to_exclude": [
    "module",
    "function",
    "builtin_function_or_method",
    "instance",
    "_Feature"
   ],
   "window_display": false
  },
  "widgets": {
   "application/vnd.jupyter.widget-state+json": {
    "state": {},
    "version_major": 2,
    "version_minor": 0
   }
  }
 },
 "nbformat": 4,
 "nbformat_minor": 2
}
